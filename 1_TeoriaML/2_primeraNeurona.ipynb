{
 "cells": [
  {
   "cell_type": "markdown",
   "metadata": {},
   "source": [
    "## 1)Neurona\n",
    "¿Qué es una neurona?\n",
    "- Una regresión lineal -> neurona = w_1*input_! + w_2 * input_2 ... + bias"
   ]
  },
  {
   "cell_type": "code",
   "execution_count": 1,
   "metadata": {},
   "outputs": [
    {
     "data": {
      "text/plain": [
       "3.5"
      ]
     },
     "execution_count": 1,
     "metadata": {},
     "output_type": "execute_result"
    }
   ],
   "source": [
    "def neurona(w, inp, bias):\n",
    "    output = (\n",
    "        w[0] * inp[0] + \\\n",
    "        w[1] * inp[1] + \\\n",
    "        w[2] * inp[2] + \\\n",
    "        w[3] * inp[3] + \\\n",
    "        bias\n",
    "    )\n",
    "\n",
    "    return output\n",
    "\n",
    "weights = [0.5, -0.3, 0.5, 1]\n",
    "inputs = [1.5, 3 ,2 ,1.6]\n",
    "bias = 1.05\n",
    "out = neurona(weights, inputs, bias)\n",
    "out "
   ]
  },
  {
   "cell_type": "markdown",
   "metadata": {},
   "source": [
    "Para hacerlo más eficiente (y generalizable) usaremos numpy.\n",
    "\n",
    "Utilizamos np.dot. Que hace el producto matricial:\n",
    "- Tensores 1D (w1\\*i1 + w2\\*i2...)\n",
    "- Tensores 2D (w11\\*i11 + w12\\*i21 + ... + w11\\*i11 + w21\\*i12 ...) Es decir para la posición 1.1 1a Fila de los pesos \\* 1a columna de los inputs etc etc\n",
    "- Etc etc"
   ]
  },
  {
   "cell_type": "code",
   "execution_count": 2,
   "metadata": {},
   "outputs": [
    {
     "data": {
      "text/plain": [
       "np.float64(3.5)"
      ]
     },
     "execution_count": 2,
     "metadata": {},
     "output_type": "execute_result"
    }
   ],
   "source": [
    "import numpy as np\n",
    "\n",
    "def neurona_np(w, inp, bias):\n",
    "    output = np.dot(w, inp) + bias \n",
    "\n",
    "    return output\n",
    "\n",
    "out = neurona_np(weights, inputs, bias)\n",
    "\n",
    "out"
   ]
  },
  {
   "cell_type": "markdown",
   "metadata": {},
   "source": [
    "## 2) Capa\n",
    "¿Qué es una capa?\n",
    "- Varias neuronas en paralelo"
   ]
  },
  {
   "cell_type": "code",
   "execution_count": 3,
   "metadata": {},
   "outputs": [],
   "source": [
    "weights = [[0.2, 0.8, -0.5, 1], #1a neurona\n",
    "           [0.5, -0.91, 0.26, -0.5], #2a neurona\n",
    "           [-0.26, -0.27, 0.17, 0.87]] # 3a neurona\n",
    "\n",
    "biases = [2, 3, 0.5]\n",
    "\n",
    "layer_outpu = np.dot(weights, inputs) + biases"
   ]
  },
  {
   "cell_type": "code",
   "execution_count": 4,
   "metadata": {},
   "outputs": [
    {
     "data": {
      "text/plain": [
       "array([5.3  , 0.74 , 1.032])"
      ]
     },
     "execution_count": 4,
     "metadata": {},
     "output_type": "execute_result"
    }
   ],
   "source": [
    "layer_outpu"
   ]
  },
  {
   "cell_type": "markdown",
   "metadata": {},
   "source": [
    "## 3) Red neuronal sencilla\n",
    "- Capa input\n",
    "- Capa fully connected \n",
    "- Capa output"
   ]
  },
  {
   "cell_type": "code",
   "execution_count": 5,
   "metadata": {},
   "outputs": [
    {
     "data": {
      "text/plain": [
       "array([[0.51704022, 0.52098793, 0.51424859, 0.51973758]])"
      ]
     },
     "execution_count": 5,
     "metadata": {},
     "output_type": "execute_result"
    }
   ],
   "source": [
    "class Capa_densa:\n",
    "    # n_features y n_neuronas nos indica dimendión de la capa\n",
    "    def __init__(self, n_features, n_neuronas):\n",
    "        self.weights = 0.01*np.random.rand(n_features, n_neuronas)\n",
    "        self.bias = np.zeros((1, n_neuronas))\n",
    "\n",
    "    # Funciones de activación: ReLU, sigmoid\n",
    "    def relu(self, inputs):\n",
    "        # outputs = []\n",
    "        # for i in inputs:\n",
    "        #     if i > 0:\n",
    "        #         outputs.append(i)\n",
    "        #     else:\n",
    "        #         outputs.append(0)\n",
    "        return np.maximum(0, inputs)\n",
    "\n",
    "    def sigmoid(self, inputs): #Clasificación binaria y clasificación multietiqueta\n",
    "        \n",
    "        return 1 / (1 + np.exp(np.negative(inputs)))\n",
    "    \n",
    "    def softmax(self, inputs): # Clasificación clasificación multiclase etiquetas excluyentes\n",
    "        \n",
    "        return np.exp(inputs) / np.exp(inputs).sum()\n",
    "\n",
    "    def forward(self, inputs, activation = 'relu'):\n",
    "        self.output = np.dot(inputs, self.weights) + self.bias\n",
    "        if activation == 'relu':\n",
    "            self.output = self.relu(self.output)\n",
    "        if activation == 'sigmoid':\n",
    "            self.output = self.sigmoid(self.output)\n",
    "        if activation == 'softmax':\n",
    "            self.output = self.softmax(self.output)\n",
    "\n",
    "\n",
    "\n",
    "capa_1 = Capa_densa(5, 4)\n",
    "capa_1.forward([1, 2, 3, 4, 5], activation='sigmoid')\n",
    "capa_1.output"
   ]
  }
 ],
 "metadata": {
  "kernelspec": {
   "display_name": "ConquerIA",
   "language": "python",
   "name": "python3"
  },
  "language_info": {
   "codemirror_mode": {
    "name": "ipython",
    "version": 3
   },
   "file_extension": ".py",
   "mimetype": "text/x-python",
   "name": "python",
   "nbconvert_exporter": "python",
   "pygments_lexer": "ipython3",
   "version": "3.12.4"
  }
 },
 "nbformat": 4,
 "nbformat_minor": 2
}
