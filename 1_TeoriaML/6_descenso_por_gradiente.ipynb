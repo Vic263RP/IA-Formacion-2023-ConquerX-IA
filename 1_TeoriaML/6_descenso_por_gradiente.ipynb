{
 "cells": [
  {
   "cell_type": "code",
   "execution_count": null,
   "metadata": {},
   "outputs": [],
   "source": [
    "import numpy as np\n",
    "\n",
    "class Capa_densa:\n",
    "    # Iniciación de la capa\n",
    "    def __init__(self, n_inputs, n_neuronas):\n",
    "\n",
    "        self.weights = 0.01 * np.random.randn(n_inputs, n_neuronas)\n",
    "        self.biases = np.zeros((1, n_neuronas)) #iniciamos con 0, se inicia con 0 para que en determinados escenarios las neuronas se activen \n",
    "                                                #sin tener el cuenta el sesgo, evitando neuronas muerta\n",
    "        pass \n",
    "\n",
    "    def forward(self,inputs):\n",
    "\n",
    "        self.output = np.dot(inputs, self.weights) + self.biases\n",
    "        #Recuerdo el input del paso\n",
    "        self.inputs=inputs \n",
    "        pass\n",
    "\n",
    "    def backwards(self,dvalues): # Ponemos d delante de la palabra siempre que vayamos en backprop\n",
    "\n",
    "        #Gradiente de los parametros\n",
    "\n",
    "        self.dweights=np.dot(self.inputs.T,dvalues)\n",
    "        self.dbiases=np.sum(dvalues,axis=0,keepdims=True)\n",
    "\n",
    "        #Gradiente de los valores\n",
    "\n",
    "        self.dinputs=np.dot(dvalues,self.dweights.T)\n",
    "\n",
    "        pass"
   ]
  }
 ],
 "metadata": {
  "language_info": {
   "name": "python"
  }
 },
 "nbformat": 4,
 "nbformat_minor": 2
}
